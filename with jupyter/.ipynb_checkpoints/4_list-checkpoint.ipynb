{
 "cells": [
  {
   "cell_type": "code",
   "execution_count": 1,
   "id": "cbec3cae",
   "metadata": {},
   "outputs": [
    {
     "data": {
      "text/plain": [
       "[0, 1, 2, 3]"
      ]
     },
     "execution_count": 1,
     "metadata": {},
     "output_type": "execute_result"
    }
   ],
   "source": [
    "# list\n",
    "# python mengetahui senyawa tipe data, digunakan untuk grupin bersama dengan value lain. paling serbaguna/versatile \n",
    "# adalah list, dimana dapat ditulis sebagai list dari pemisahan koma value (item) antara kurung persegi, \n",
    "# list mungkin mengandung tipe data berbeda, \n",
    "# tetapi biasanya semuanya tipe yang sama\n",
    "# range menjadi list\n",
    "list(range(4)) #output: [0,1,2,3]\n"
   ]
  },
  {
   "cell_type": "code",
   "execution_count": 2,
   "id": "b135867b",
   "metadata": {},
   "outputs": [
    {
     "data": {
      "text/plain": [
       "[1, 2, 3, 4, 5, 6, 7, 8, 9, 10]"
      ]
     },
     "execution_count": 2,
     "metadata": {},
     "output_type": "execute_result"
    }
   ],
   "source": [
    "\n",
    "array = [1,2,3,4]\n",
    "\n",
    "#concatenate\n",
    "array + [5,6,7,8,9,10] #1,2,3,4,5,6,7,8,9,10\n"
   ]
  },
  {
   "cell_type": "code",
   "execution_count": 3,
   "id": "c87652a2",
   "metadata": {},
   "outputs": [
    {
     "data": {
      "text/plain": [
       "[2, 4, 8, 16]"
      ]
     },
     "execution_count": 3,
     "metadata": {},
     "output_type": "execute_result"
    }
   ],
   "source": [
    "\n",
    "#mutable\n",
    "array2 = [2,4,8,17]\n",
    "array2[3] = 16\n",
    "array2 #2,4,8,16\n"
   ]
  },
  {
   "cell_type": "code",
   "execution_count": 4,
   "id": "c81b7e96",
   "metadata": {},
   "outputs": [
    {
     "data": {
      "text/plain": [
       "[2, 4, 8, 16]"
      ]
     },
     "execution_count": 4,
     "metadata": {},
     "output_type": "execute_result"
    }
   ],
   "source": [
    "# get all data\n",
    "array2[:]"
   ]
  },
  {
   "cell_type": "code",
   "execution_count": 4,
   "id": "997d04dd",
   "metadata": {},
   "outputs": [
    {
     "data": {
      "text/plain": [
       "[2, 4, 8, 16]"
      ]
     },
     "execution_count": 4,
     "metadata": {},
     "output_type": "execute_result"
    }
   ],
   "source": [
    "\n",
    "#append / tambah data di akhir item\n",
    "array3 = [2,4,8]\n",
    "array3.append(2**4)\n",
    "array3 # 2,4,8,16\n"
   ]
  },
  {
   "cell_type": "code",
   "execution_count": 6,
   "id": "acf91717",
   "metadata": {},
   "outputs": [
    {
     "data": {
      "text/plain": [
       "[1, 2, 6, 7, 8]"
      ]
     },
     "execution_count": 6,
     "metadata": {},
     "output_type": "execute_result"
    }
   ],
   "source": [
    "\n",
    "#slices / potong\n",
    "array4 = [1,2,3,4,5,6,7,8]\n",
    "array4[2:5] = [] #dari index 2 5-2 = 3 hapus 3 data\n",
    "array4 # 1,2,6,7,8\n",
    "\n"
   ]
  },
  {
   "cell_type": "code",
   "execution_count": 7,
   "id": "fd042983",
   "metadata": {},
   "outputs": [
    {
     "name": "stdout",
     "output_type": "stream",
     "text": [
      "[8, 7, 6, 2, 1]\n"
     ]
    }
   ],
   "source": [
    "array4.reverse()\n",
    "print(array4) #[8, 7, 6, 2, 1]\n"
   ]
  },
  {
   "cell_type": "code",
   "execution_count": 10,
   "id": "5c0dfe8a",
   "metadata": {},
   "outputs": [
    {
     "name": "stdout",
     "output_type": "stream",
     "text": [
      "[1, 2, 4, 4, 5, 6, 7]\n"
     ]
    }
   ],
   "source": [
    "array5 = [4,2,1,5,6,7,4]\n",
    "array5.sort()\n",
    "print(array5) #[1, 2, 4, 4, 5, 6, 7]\n"
   ]
  },
  {
   "cell_type": "code",
   "execution_count": 17,
   "id": "7f29ee84",
   "metadata": {},
   "outputs": [
    {
     "name": "stdout",
     "output_type": "stream",
     "text": [
      "[[1, 2, 1, 2, 1], [3, 4, 3, 4, 3]]\n"
     ]
    }
   ],
   "source": [
    "l1 = [1,2,1,2,1]\n",
    "l2 = [3,4,3,4,3]\n",
    "\n",
    "array6 = [l1,l2] #matrix\n",
    "print(array6)\n",
    "\n"
   ]
  },
  {
   "cell_type": "code",
   "execution_count": null,
   "id": "485c2ce2",
   "metadata": {},
   "outputs": [],
   "source": []
  }
 ],
 "metadata": {
  "kernelspec": {
   "display_name": "Python 3 (ipykernel)",
   "language": "python",
   "name": "python3"
  },
  "language_info": {
   "codemirror_mode": {
    "name": "ipython",
    "version": 3
   },
   "file_extension": ".py",
   "mimetype": "text/x-python",
   "name": "python",
   "nbconvert_exporter": "python",
   "pygments_lexer": "ipython3",
   "version": "3.9.12"
  }
 },
 "nbformat": 4,
 "nbformat_minor": 5
}
