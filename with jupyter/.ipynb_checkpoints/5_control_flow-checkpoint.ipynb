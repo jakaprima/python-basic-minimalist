{
 "cells": [
  {
   "cell_type": "code",
   "execution_count": 1,
   "id": "235e2819",
   "metadata": {},
   "outputs": [
    {
     "name": "stdout",
     "output_type": "stream",
     "text": [
      "20\n",
      "10\n"
     ]
    }
   ],
   "source": [
    "# python 2 input\n",
    "# python 3 input\n",
    "\n",
    "x = 10\n",
    "def jaka1():\n",
    "\tx = 20 #namespace variable\n",
    "\treturn x\n",
    "print(jaka1()) # 20\n",
    "print(x) #10\n"
   ]
  },
  {
   "cell_type": "code",
   "execution_count": 2,
   "id": "438d6abc",
   "metadata": {},
   "outputs": [
    {
     "name": "stdout",
     "output_type": "stream",
     "text": [
      "30\n",
      "30\n"
     ]
    }
   ],
   "source": [
    "\n",
    "x = 10\n",
    "def jaka():\n",
    "    global x\n",
    "    x = 30\n",
    "    return x\n",
    "print(jaka()) #30\n",
    "print(x) # 30\n"
   ]
  },
  {
   "cell_type": "code",
   "execution_count": 1,
   "id": "624f7049",
   "metadata": {},
   "outputs": [
    {
     "name": "stdout",
     "output_type": "stream",
     "text": [
      "masukkan inputan: 1\n",
      "x lebih kecil dari 10\n"
     ]
    }
   ],
   "source": [
    "# IF STATEMENT\n",
    "#if\n",
    "x = int(input(\"masukkan inputan: \")) #input\n",
    "if x < 10:\n",
    "    print(\"x lebih kecil dari 10\")\n",
    "elif x == 3:\n",
    "    print(\"x sama dengan 3\")\n",
    "else:\n",
    "    print(\"yang lainnya\")\n",
    "# output x lebih kecil dari 10\n"
   ]
  },
  {
   "cell_type": "code",
   "execution_count": 8,
   "id": "ebe27810",
   "metadata": {},
   "outputs": [
    {
     "name": "stdout",
     "output_type": "stream",
     "text": [
      "a lebih kecil dari 10\n"
     ]
    }
   ],
   "source": [
    "# IF dengan switch python 3.10\n",
    "a = 9\n",
    "# match a:\n",
    "#     case 10:\n",
    "#         print(\"10\")\n",
    "#     case _:\n",
    "#         print(\"ELSE\")\n",
    "\n",
    "def switch(a):\n",
    "    if a < 10:\n",
    "        print(\"a lebih kecil dari 10\")\n",
    "    else:\n",
    "        print(\"else\")\n",
    "\n",
    "switch(a)\n"
   ]
  },
  {
   "cell_type": "code",
   "execution_count": 2,
   "id": "7435f36e",
   "metadata": {},
   "outputs": [
    {
     "name": "stdout",
     "output_type": "stream",
     "text": [
      "jaka 4\n",
      "prima 5\n",
      "maulana 7\n"
     ]
    }
   ],
   "source": [
    "# FOR STATEMENT\n",
    "#for\n",
    "array1 = ['jaka', 'prima', 'maulana']\n",
    "for x in array1:\n",
    "\tprint(x, len(x))\n",
    "#output\n",
    "#jaka 4\n",
    "#prima 5\n",
    "#maulana 7\n"
   ]
  },
  {
   "cell_type": "code",
   "execution_count": 8,
   "id": "8b9add81",
   "metadata": {},
   "outputs": [
    {
     "name": "stdout",
     "output_type": "stream",
     "text": [
      "['maulana', 'maulana', 'maulana', 'maulana', 'maulana', 'maulana', 'maulana', 'jaka', 'prima', 'maulana']\n"
     ]
    }
   ],
   "source": [
    "\n",
    "#insert di loop pada spesifik index\n",
    "for w in array1[:]: #copy semua array untuk insert harus pake\n",
    "\tif len(w) > 5:\n",
    "\t\tarray1.insert(0, w)\n",
    "print(array1)\n",
    "#output : maulana, jaka, prima, maulana\n",
    "\n"
   ]
  },
  {
   "cell_type": "code",
   "execution_count": 13,
   "id": "26dcbfe3",
   "metadata": {},
   "outputs": [
    {
     "name": "stdout",
     "output_type": "stream",
     "text": [
      "0\n",
      "1\n",
      "2\n",
      "3\n",
      "4\n"
     ]
    }
   ],
   "source": [
    "# range\n",
    "a = range(5) #0,1,2,3,4 terbuat 5 data #typenya <class 'range'>\n",
    "for x in a:\n",
    "    print(x)\n"
   ]
  },
  {
   "cell_type": "code",
   "execution_count": 20,
   "id": "30addd10",
   "metadata": {},
   "outputs": [
    {
     "name": "stdout",
     "output_type": "stream",
     "text": [
      "6\n",
      "7\n",
      "8\n",
      "9\n"
     ]
    }
   ],
   "source": [
    "\n",
    "#start from\n",
    "b = range(6,10) #6,7,8,9 10-6 = ambil 4 data\n",
    "for x in b:\n",
    "    print(x)\n"
   ]
  },
  {
   "cell_type": "code",
   "execution_count": 27,
   "id": "4261d35b",
   "metadata": {},
   "outputs": [
    {
     "name": "stdout",
     "output_type": "stream",
     "text": [
      "0\n",
      "3\n",
      "6\n",
      "9\n"
     ]
    }
   ],
   "source": [
    "\n",
    "# range specify different increment (step)\n",
    "a = range(0, 10, 3) # looping dengan increment +3 output: 0, 3, 6, 9 tidak boleh 10\n",
    "for x in a:\n",
    "    print(x)\n"
   ]
  },
  {
   "cell_type": "code",
   "execution_count": 29,
   "id": "990338b0",
   "metadata": {},
   "outputs": [
    {
     "name": "stdout",
     "output_type": "stream",
     "text": [
      "-10\n",
      "-40\n",
      "-70\n"
     ]
    }
   ],
   "source": [
    "a= range(-10, -100, -30) # looping dengan increment +(-30) output: -10, -40(-10+-30), -70(-40+-30)\n",
    "for x in a:\n",
    "    print(x)"
   ]
  },
  {
   "cell_type": "code",
   "execution_count": 3,
   "id": "57e4a700",
   "metadata": {},
   "outputs": [
    {
     "name": "stdout",
     "output_type": "stream",
     "text": [
      "key=key1 value=value 1\n",
      "key=key2 value=value 2\n"
     ]
    }
   ],
   "source": [
    "# LOOP dengan DICT\n",
    "data = {'key1': 'value 1', 'key2': 'value 2'}\n",
    "for key, value in data.copy().items():\n",
    "    print(f\"key={key} value={value}\")\n",
    "    "
   ]
  },
  {
   "cell_type": "code",
   "execution_count": 30,
   "id": "2442ccbb",
   "metadata": {},
   "outputs": [
    {
     "data": {
      "text/plain": [
       "6"
      ]
     },
     "execution_count": 30,
     "metadata": {},
     "output_type": "execute_result"
    }
   ],
   "source": [
    "# sum saat looping\n",
    "sum(range(4)) # 0+1+2+3 output: 6"
   ]
  },
  {
   "cell_type": "code",
   "execution_count": 31,
   "id": "92cc13b9",
   "metadata": {},
   "outputs": [
    {
     "name": "stdout",
     "output_type": "stream",
     "text": [
      "3\n",
      "0 jaka\n",
      "1 prima\n",
      "2 maulana\n"
     ]
    }
   ],
   "source": [
    "#loop with range\n",
    "array1 = ['jaka', 'prima', 'maulana']\n",
    "print(len(array1)) # 3\n",
    "for x in range(len(array1)):\n",
    "\tprint(x, array1[x])\n",
    "#output\n",
    "#0 jaka\n",
    "#1 prima\n",
    "#2 maulana"
   ]
  },
  {
   "cell_type": "code",
   "execution_count": 37,
   "id": "f98b8d93",
   "metadata": {},
   "outputs": [
    {
     "name": "stdout",
     "output_type": "stream",
     "text": [
      "3 \n",
      "4 = 2 * 2.0\n",
      "5 \n",
      "5 \n",
      "5 \n",
      "6 = 2 * 3.0\n",
      "7 \n",
      "7 \n",
      "7 \n",
      "7 \n",
      "7 \n",
      "8 = 2 * 4.0\n",
      "9 \n",
      "9 = 3 * 3.0\n"
     ]
    }
   ],
   "source": [
    "#break statement (contoh: mencari factorial)\n",
    "for x in range(2,10):\n",
    "    for y in range(2, x):\n",
    "        if x % y == 0:\n",
    "            print(x, '=', y, '*', x/y)\n",
    "            break\n",
    "        else:\n",
    "\t\t\t# loop gagal tanpa menemukan factorial\n",
    "            print(x, '')\n"
   ]
  },
  {
   "cell_type": "code",
   "execution_count": 42,
   "id": "63ac42a3",
   "metadata": {},
   "outputs": [
    {
     "name": "stdout",
     "output_type": "stream",
     "text": [
      "1 angka ganjil\n",
      "2 genap ditemukan\n",
      "3 angka ganjil\n",
      "4 genap ditemukan\n",
      "5 angka ganjil\n",
      "6 genap ditemukan\n",
      "7 angka ganjil\n",
      "8 genap ditemukan\n",
      "9 angka ganjil\n"
     ]
    }
   ],
   "source": [
    "#continue\n",
    "for angka in range(1, 10):\n",
    "    if angka % 2 == 0:\n",
    "        print(angka, 'genap ditemukan')\n",
    "        continue\n",
    "    print(angka, 'angka ganjil')"
   ]
  },
  {
   "cell_type": "code",
   "execution_count": 43,
   "id": "d6644978",
   "metadata": {},
   "outputs": [
    {
     "name": "stdout",
     "output_type": "stream",
     "text": [
      "0\n",
      "1\n",
      "1\n",
      "2\n",
      "3\n",
      "5\n",
      "8\n",
      "13\n",
      "21\n",
      "34\n",
      "55\n",
      "89\n",
      "144\n",
      "233\n",
      "377\n",
      "610\n",
      "987\n",
      "1597\n"
     ]
    }
   ],
   "source": [
    "# function\n",
    "#fibonachi\n",
    "def nameFunction(n): # menulis Fibonacci series ke n\n",
    "\ta,b = 0,1\n",
    "\twhile a < n:\n",
    "\t\tprint(a),\n",
    "\t\ta, b = b, a+b\n",
    "nameFunction(2000)\n",
    "#0 1 1 2 3 5 8 13 21 34 55 89 144 233 377 610 987 1597\n"
   ]
  },
  {
   "cell_type": "code",
   "execution_count": 45,
   "id": "7985dfbc",
   "metadata": {},
   "outputs": [
    {
     "name": "stdout",
     "output_type": "stream",
     "text": [
      "apakah kamu ingin keluar?n\n"
     ]
    },
    {
     "data": {
      "text/plain": [
       "False"
      ]
     },
     "execution_count": 45,
     "metadata": {},
     "output_type": "execute_result"
    }
   ],
   "source": [
    "#default argument\n",
    "def fungsi2(pesan, angka=4, pesan2='ya atau tidak!'):\n",
    "\twhile True:\n",
    "\t\tok = input(pesan)\n",
    "\t\tif ok in ('y', 'ye', 'yes'):\n",
    "\t\t\treturn True\n",
    "\t\tif ok in ('n', 'no'):\n",
    "\t\t\treturn False\n",
    "\t\tangka = angka - 1\n",
    "\t\tif angka < 0:\n",
    "\t\t\traise IOError('error user')\n",
    "\t\tprint(pesan2)\n",
    "\n",
    "fungsi2('apakah kamu ingin keluar?')\n",
    "#fungsi2('apakah kamu ingin keluar?', 2)\n",
    "#fungsi2('apakah kamu ingin keluar?', 2, 'pesankeluar')"
   ]
  },
  {
   "cell_type": "code",
   "execution_count": 46,
   "id": "23896a1a",
   "metadata": {},
   "outputs": [
    {
     "data": {
      "text/plain": [
       "range(3, 6)"
      ]
     },
     "execution_count": 46,
     "metadata": {},
     "output_type": "execute_result"
    }
   ],
   "source": [
    "#unpacking argument list with *\n",
    "args = [3,6]\n",
    "range(*args) # 3,4,5"
   ]
  },
  {
   "cell_type": "code",
   "execution_count": 47,
   "id": "de277f26",
   "metadata": {},
   "outputs": [
    {
     "name": "stdout",
     "output_type": "stream",
     "text": [
      "isi arg1\n",
      "isi arg2\n",
      "isi arg3\n"
     ]
    }
   ],
   "source": [
    "#unpacking argument dictionaries with **\n",
    "def f(arg1, arg2='default arg2 val', arg3='default arg3 val'):\n",
    "\tprint(arg1)\n",
    "\tprint(arg2)\n",
    "\tprint(arg3)\n",
    "\n",
    "dictionaries = {\"arg1\": \"isi arg1\", \"arg2\": \"isi arg2\", \"arg3\": \"isi arg3\"}\n",
    "f(**dictionaries)\n"
   ]
  },
  {
   "cell_type": "code",
   "execution_count": 48,
   "id": "d6f2eb4c",
   "metadata": {},
   "outputs": [
    {
     "name": "stdout",
     "output_type": "stream",
     "text": [
      "30\n"
     ]
    }
   ],
   "source": [
    "#lambda expression = anonymous func\n",
    "def f(n):\n",
    "\treturn lambda x: x + n\n",
    "f2 = f(10)\n",
    "print(f2(20)) # 30"
   ]
  },
  {
   "cell_type": "code",
   "execution_count": 49,
   "id": "cf47ab59",
   "metadata": {},
   "outputs": [
    {
     "name": "stdout",
     "output_type": "stream",
     "text": [
      "20\n"
     ]
    }
   ],
   "source": [
    "func1 = lambda params: params+params\n",
    "print(func1(10)) #20"
   ]
  },
  {
   "cell_type": "code",
   "execution_count": null,
   "id": "d36fde8b",
   "metadata": {},
   "outputs": [],
   "source": []
  }
 ],
 "metadata": {
  "kernelspec": {
   "display_name": "Python 3 (ipykernel)",
   "language": "python",
   "name": "python3"
  },
  "language_info": {
   "codemirror_mode": {
    "name": "ipython",
    "version": 3
   },
   "file_extension": ".py",
   "mimetype": "text/x-python",
   "name": "python",
   "nbconvert_exporter": "python",
   "pygments_lexer": "ipython3",
   "version": "3.9.12"
  }
 },
 "nbformat": 4,
 "nbformat_minor": 5
}
