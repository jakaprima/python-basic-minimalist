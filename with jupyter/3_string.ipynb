{
 "cells": [
  {
   "cell_type": "code",
   "execution_count": 1,
   "id": "69b86343",
   "metadata": {},
   "outputs": [
    {
     "data": {
      "text/plain": [
       "'spam eggs'"
      ]
     },
     "execution_count": 1,
     "metadata": {},
     "output_type": "execute_result"
    }
   ],
   "source": [
    "'spam eggs' # 'spam eggs' single quotes\n"
   ]
  },
  {
   "cell_type": "code",
   "execution_count": 2,
   "id": "60e90395",
   "metadata": {},
   "outputs": [
    {
     "data": {
      "text/plain": [
       "\"doesn't\""
      ]
     },
     "execution_count": 2,
     "metadata": {},
     "output_type": "execute_result"
    }
   ],
   "source": [
    "'doesn\\'t' # \"doesn't\" escape single quotes\n"
   ]
  },
  {
   "cell_type": "code",
   "execution_count": 3,
   "id": "8781d7f1",
   "metadata": {},
   "outputs": [
    {
     "name": "stdout",
     "output_type": "stream",
     "text": [
      "baris1\n",
      " baris2\n"
     ]
    }
   ],
   "source": [
    "\n",
    "a = \"baris1\\n baris2\" #new line\n",
    "print(a)\n",
    "# baris1\n",
    "# baris2\n"
   ]
  },
  {
   "cell_type": "code",
   "execution_count": 4,
   "id": "2bf6f896",
   "metadata": {},
   "outputs": [
    {
     "name": "stdout",
     "output_type": "stream",
     "text": [
      "C:\\\\files\\name\n"
     ]
    }
   ],
   "source": [
    "print(r\"C:\\\\files\\name\") # print row dan ga jadi new line\n"
   ]
  },
  {
   "cell_type": "code",
   "execution_count": 5,
   "id": "83f52c2b",
   "metadata": {},
   "outputs": [
    {
     "name": "stdout",
     "output_type": "stream",
     "text": [
      "bebas\n",
      "\tsdgasjdf\n",
      "\t asdf\n",
      "\t \t\tafsdf\n",
      "\n"
     ]
    }
   ],
   "source": [
    "# string beda\" indent\n",
    "print(\"\"\"\\\n",
    "bebas\n",
    "\tsdgasjdf\n",
    "\t asdf\n",
    "\t \t\tafsdf\n",
    "\"\"\")\n"
   ]
  },
  {
   "cell_type": "code",
   "execution_count": 6,
   "id": "e6cc7d7f",
   "metadata": {},
   "outputs": [
    {
     "data": {
      "text/plain": [
       "'jakajakajakaprima'"
      ]
     },
     "execution_count": 6,
     "metadata": {},
     "output_type": "execute_result"
    }
   ],
   "source": [
    "#glued + repeat with * !behaviorjavascriptrepeat\n",
    "3*'jaka'+'prima'\n",
    "#jakajakajakaprima\n",
    "\n"
   ]
  },
  {
   "cell_type": "code",
   "execution_count": 7,
   "id": "2f1a9a09",
   "metadata": {},
   "outputs": [
    {
     "data": {
      "text/plain": [
       "'----------------------------------------------------------------------------------------------------'"
      ]
     },
     "execution_count": 7,
     "metadata": {},
     "output_type": "execute_result"
    }
   ],
   "source": [
    "100*'-'"
   ]
  },
  {
   "cell_type": "code",
   "execution_count": 8,
   "id": "e12e4dce",
   "metadata": {},
   "outputs": [
    {
     "data": {
      "text/plain": [
       "'jakaprima'"
      ]
     },
     "execution_count": 8,
     "metadata": {},
     "output_type": "execute_result"
    }
   ],
   "source": [
    "#gabung tanpa operator !behaviorjavascript\n",
    "'jaka' 'prima'\n",
    "#jakaprima\n"
   ]
  },
  {
   "cell_type": "code",
   "execution_count": 2,
   "id": "7bec6b53",
   "metadata": {},
   "outputs": [
    {
     "data": {
      "text/plain": [
       "'o'"
      ]
     },
     "execution_count": 2,
     "metadata": {},
     "output_type": "execute_result"
    }
   ],
   "source": [
    "\n",
    "#output string array data !behaviorjavascript\n",
    "a = 'jako'\n",
    "a[3] #k\n"
   ]
  },
  {
   "cell_type": "code",
   "execution_count": 3,
   "id": "99298c9d",
   "metadata": {},
   "outputs": [
    {
     "data": {
      "text/plain": [
       "'o'"
      ]
     },
     "execution_count": 3,
     "metadata": {},
     "output_type": "execute_result"
    }
   ],
   "source": [
    "a[-1] # get last index\n"
   ]
  },
  {
   "cell_type": "code",
   "execution_count": 14,
   "id": "ebdce25e",
   "metadata": {},
   "outputs": [
    {
     "data": {
      "text/plain": [
       "'ak'"
      ]
     },
     "execution_count": 14,
     "metadata": {},
     "output_type": "execute_result"
    }
   ],
   "source": [
    "# string ambil dari index 1 dan ambil 3-1 data setelahnya atau\n",
    "# ambil index ke 1 (a) dan exclude index 3 (k)\n",
    "a[1:3]\n"
   ]
  },
  {
   "cell_type": "code",
   "execution_count": 15,
   "id": "ea5766c8",
   "metadata": {},
   "outputs": [
    {
     "data": {
      "text/plain": [
       "'jo'"
      ]
     },
     "execution_count": 15,
     "metadata": {},
     "output_type": "execute_result"
    }
   ],
   "source": [
    "a[:1] + a[3:] #jo\n"
   ]
  },
  {
   "cell_type": "code",
   "execution_count": 19,
   "id": "42f3ca41",
   "metadata": {},
   "outputs": [
    {
     "data": {
      "text/plain": [
       "4"
      ]
     },
     "execution_count": 19,
     "metadata": {},
     "output_type": "execute_result"
    }
   ],
   "source": [
    "# length\n",
    "len(a)\n",
    "\n",
    "\n"
   ]
  },
  {
   "cell_type": "code",
   "execution_count": 32,
   "id": "d02c55c9",
   "metadata": {},
   "outputs": [
    {
     "data": {
      "text/plain": [
       "'ao'"
      ]
     },
     "execution_count": 32,
     "metadata": {},
     "output_type": "execute_result"
    }
   ],
   "source": [
    "\n",
    "# ambil index ke 1 lompat 2 data setelahnya\n",
    "a[1::2] #ao"
   ]
  },
  {
   "cell_type": "code",
   "execution_count": 31,
   "id": "71640657",
   "metadata": {},
   "outputs": [
    {
     "data": {
      "text/plain": [
       "'okaj'"
      ]
     },
     "execution_count": 31,
     "metadata": {},
     "output_type": "execute_result"
    }
   ],
   "source": [
    "#tranverse \n",
    "a[::-1] #okaj"
   ]
  },
  {
   "cell_type": "code",
   "execution_count": null,
   "id": "c9f3c454",
   "metadata": {},
   "outputs": [],
   "source": []
  }
 ],
 "metadata": {
  "kernelspec": {
   "display_name": "Python 3 (ipykernel)",
   "language": "python",
   "name": "python3"
  },
  "language_info": {
   "codemirror_mode": {
    "name": "ipython",
    "version": 3
   },
   "file_extension": ".py",
   "mimetype": "text/x-python",
   "name": "python",
   "nbconvert_exporter": "python",
   "pygments_lexer": "ipython3",
   "version": "3.9.12"
  }
 },
 "nbformat": 4,
 "nbformat_minor": 5
}
